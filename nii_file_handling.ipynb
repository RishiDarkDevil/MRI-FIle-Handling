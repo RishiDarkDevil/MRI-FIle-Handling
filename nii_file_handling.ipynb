{
 "cells": [
  {
   "cell_type": "code",
   "execution_count": 1,
   "metadata": {},
   "outputs": [],
   "source": [
    "# Required Packages\n",
    "import nibabel as nib\n",
    "import numpy as np\n",
    "import matplotlib.pyplot as plt\n",
    "import pandas as pd"
   ]
  },
  {
   "cell_type": "code",
   "execution_count": 50,
   "metadata": {},
   "outputs": [],
   "source": [
    "# Reading the nii file(which was generated from dcm file using dcm2niix utility in bash for anaconda)\n",
    "# The \"\\\\\" in the directory name is important\n",
    "t1_img = nib.load(\"nifti\\\\dcm_anat_ses-01_T1w_20190219111436_5.nii\")"
   ]
  },
  {
   "cell_type": "code",
   "execution_count": 19,
   "metadata": {},
   "outputs": [
    {
     "name": "stdout",
     "output_type": "stream",
     "text": [
      "<class 'nibabel.nifti1.Nifti1Header'> object, endian='<'\n",
      "sizeof_hdr      : 348\n",
      "data_type       : b''\n",
      "db_name         : b''\n",
      "extents         : 0\n",
      "session_error   : 0\n",
      "regular         : b'r'\n",
      "dim_info        : 54\n",
      "dim             : [  3 192 256 256   1   1   1   1]\n",
      "intent_p1       : 0.0\n",
      "intent_p2       : 0.0\n",
      "intent_p3       : 0.0\n",
      "intent_code     : none\n",
      "datatype        : int16\n",
      "bitpix          : 16\n",
      "slice_start     : 0\n",
      "pixdim          : [1.         0.90000004 0.859375   0.859375   2.3        0.\n",
      " 0.         0.        ]\n",
      "vox_offset      : 0.0\n",
      "scl_slope       : nan\n",
      "scl_inter       : nan\n",
      "slice_end       : 0\n",
      "slice_code      : unknown\n",
      "xyzt_units      : 10\n",
      "cal_max         : 0.0\n",
      "cal_min         : 0.0\n",
      "slice_duration  : 0.0\n",
      "toffset         : 0.0\n",
      "glmax           : 0\n",
      "glmin           : 0\n",
      "descrip         : b'TE=3.1;Time=112922.273;phase=1'\n",
      "aux_file        : b''\n",
      "qform_code      : scanner\n",
      "sform_code      : scanner\n",
      "quatern_b       : -0.15146269\n",
      "quatern_c       : 0.011705771\n",
      "quatern_d       : -0.0024157318\n",
      "qoffset_x       : -90.05011\n",
      "qoffset_y       : -143.96637\n",
      "qoffset_z       : -76.791336\n",
      "srow_x          : [ 8.9974213e-01  1.0565141e-03  2.0514602e-02 -9.0050110e+01]\n",
      "srow_y          : [-7.4892081e-03  8.1993520e-01  2.5725570e-01 -1.4396637e+02]\n",
      "srow_z          : [-2.0167151e-02 -2.5735289e-01  8.1970978e-01 -7.6791336e+01]\n",
      "intent_name     : b''\n",
      "magic           : b'n+1'\n"
     ]
    }
   ],
   "source": [
    "# Header contains the metadata information about the image\n",
    "t1_hdr = t1_img.header\n",
    "print(t1_hdr)"
   ]
  },
  {
   "cell_type": "code",
   "execution_count": 20,
   "metadata": {},
   "outputs": [
    {
     "data": {
      "text/plain": [
       "['sizeof_hdr',\n",
       " 'data_type',\n",
       " 'db_name',\n",
       " 'extents',\n",
       " 'session_error',\n",
       " 'regular',\n",
       " 'dim_info',\n",
       " 'dim',\n",
       " 'intent_p1',\n",
       " 'intent_p2',\n",
       " 'intent_p3',\n",
       " 'intent_code',\n",
       " 'datatype',\n",
       " 'bitpix',\n",
       " 'slice_start',\n",
       " 'pixdim',\n",
       " 'vox_offset',\n",
       " 'scl_slope',\n",
       " 'scl_inter',\n",
       " 'slice_end',\n",
       " 'slice_code',\n",
       " 'xyzt_units',\n",
       " 'cal_max',\n",
       " 'cal_min',\n",
       " 'slice_duration',\n",
       " 'toffset',\n",
       " 'glmax',\n",
       " 'glmin',\n",
       " 'descrip',\n",
       " 'aux_file',\n",
       " 'qform_code',\n",
       " 'sform_code',\n",
       " 'quatern_b',\n",
       " 'quatern_c',\n",
       " 'quatern_d',\n",
       " 'qoffset_x',\n",
       " 'qoffset_y',\n",
       " 'qoffset_z',\n",
       " 'srow_x',\n",
       " 'srow_y',\n",
       " 'srow_z',\n",
       " 'intent_name',\n",
       " 'magic']"
      ]
     },
     "execution_count": 20,
     "metadata": {},
     "output_type": "execute_result"
    }
   ],
   "source": [
    "t1_hdr.keys()"
   ]
  },
  {
   "cell_type": "code",
   "execution_count": 21,
   "metadata": {},
   "outputs": [
    {
     "data": {
      "text/plain": [
       "array([1.        , 0.90000004, 0.859375  , 0.859375  , 2.3       ,\n",
       "       0.        , 0.        , 0.        ], dtype=float32)"
      ]
     },
     "execution_count": 21,
     "metadata": {},
     "output_type": "execute_result"
    }
   ],
   "source": [
    "t1_hdr[\"pixdim\"]"
   ]
  },
  {
   "cell_type": "code",
   "execution_count": 22,
   "metadata": {},
   "outputs": [
    {
     "data": {
      "text/plain": [
       "memmap([[[ 4.,  7.,  3., ...,  3.,  3.,  0.],\n",
       "         [ 1.,  6.,  2., ...,  2.,  4.,  0.],\n",
       "         [ 4.,  4.,  2., ...,  6.,  5.,  0.],\n",
       "         ...,\n",
       "         [ 6.,  1.,  9., ...,  3.,  6.,  0.],\n",
       "         [ 2.,  3.,  6., ...,  7.,  2.,  0.],\n",
       "         [ 0.,  0.,  0., ...,  0.,  0.,  0.]],\n",
       "\n",
       "        [[ 4.,  5.,  0., ...,  3.,  1.,  0.],\n",
       "         [ 2.,  1.,  8., ...,  4.,  1.,  0.],\n",
       "         [ 5.,  1.,  8., ...,  3.,  4.,  0.],\n",
       "         ...,\n",
       "         [10., 19.,  2., ...,  0.,  2.,  0.],\n",
       "         [ 5.,  3.,  3., ...,  3.,  4.,  0.],\n",
       "         [ 0.,  0.,  0., ...,  0.,  0.,  0.]],\n",
       "\n",
       "        [[ 1.,  2.,  3., ...,  2.,  1.,  0.],\n",
       "         [ 2.,  4.,  9., ...,  2.,  8.,  0.],\n",
       "         [ 7.,  7.,  9., ...,  4.,  4.,  0.],\n",
       "         ...,\n",
       "         [ 1.,  2.,  9., ...,  1.,  0.,  0.],\n",
       "         [ 5.,  8.,  7., ...,  2.,  1.,  0.],\n",
       "         [ 0.,  0.,  0., ...,  0.,  0.,  0.]],\n",
       "\n",
       "        ...,\n",
       "\n",
       "        [[ 7.,  2.,  4., ...,  1.,  3.,  0.],\n",
       "         [ 7.,  4.,  5., ...,  3.,  4.,  0.],\n",
       "         [ 7.,  3.,  9., ...,  3.,  3.,  0.],\n",
       "         ...,\n",
       "         [ 5.,  4.,  9., ...,  3.,  5.,  0.],\n",
       "         [ 3.,  5.,  2., ...,  3.,  2.,  0.],\n",
       "         [ 0.,  0.,  0., ...,  0.,  0.,  0.]],\n",
       "\n",
       "        [[ 3.,  7.,  5., ...,  2.,  2.,  0.],\n",
       "         [ 3., 13.,  4., ...,  3.,  1.,  0.],\n",
       "         [ 5.,  3., 11., ...,  2.,  0.,  0.],\n",
       "         ...,\n",
       "         [ 5.,  0.,  5., ...,  1.,  4.,  0.],\n",
       "         [ 2.,  0.,  0., ...,  0.,  3.,  0.],\n",
       "         [ 0.,  0.,  0., ...,  0.,  0.,  0.]],\n",
       "\n",
       "        [[ 2.,  5.,  8., ...,  1.,  2.,  0.],\n",
       "         [ 1.,  6.,  0., ...,  1.,  1.,  0.],\n",
       "         [ 6.,  8.,  9., ...,  3.,  4.,  0.],\n",
       "         ...,\n",
       "         [ 6.,  5.,  4., ...,  2.,  2.,  0.],\n",
       "         [ 6.,  3.,  5., ...,  4.,  2.,  0.],\n",
       "         [ 0.,  0.,  0., ...,  0.,  0.,  0.]]])"
      ]
     },
     "execution_count": 22,
     "metadata": {},
     "output_type": "execute_result"
    }
   ],
   "source": [
    "# It is the matrix containing information about the image\n",
    "t1_data = t1_img.get_fdata()\n",
    "t1_data"
   ]
  },
  {
   "cell_type": "code",
   "execution_count": 23,
   "metadata": {},
   "outputs": [
    {
     "data": {
      "text/plain": [
       "numpy.memmap"
      ]
     },
     "execution_count": 23,
     "metadata": {},
     "output_type": "execute_result"
    }
   ],
   "source": [
    "# The image data is a numpy array\n",
    "type(t1_data)"
   ]
  },
  {
   "cell_type": "code",
   "execution_count": 27,
   "metadata": {},
   "outputs": [
    {
     "data": {
      "text/plain": [
       "3"
      ]
     },
     "execution_count": 27,
     "metadata": {},
     "output_type": "execute_result"
    }
   ],
   "source": [
    "# Dimensions of t1_data\n",
    "t1_data.ndim"
   ]
  },
  {
   "cell_type": "code",
   "execution_count": 30,
   "metadata": {},
   "outputs": [
    {
     "data": {
      "text/plain": [
       "(192, 256, 256)"
      ]
     },
     "execution_count": 30,
     "metadata": {},
     "output_type": "execute_result"
    }
   ],
   "source": [
    "# It indicates the brain was scanned in 192 slices with resolution 256 x 256 voxels per slice.\n",
    "# Voxel is volumetric pixel which is the 3D analogue of 2D pixel\n",
    "# It means we have 192 2D images of the brain, if we stitch them together we will get a long cubical pixel which we are calling as Voxel\n",
    "# Here the value of a point in the 2D image is a part of the cubical Voxel(which is of the size 192).\n",
    "# But! When refering we are refering the value of a point in the 2D image as a Voxel(Just to indicate it is not a simple pixel, it is a part of something more informative than that)\n",
    "t1_data.shape"
   ]
  },
  {
   "cell_type": "code",
   "execution_count": 31,
   "metadata": {},
   "outputs": [
    {
     "data": {
      "text/plain": [
       "dtype('float64')"
      ]
     },
     "execution_count": 31,
     "metadata": {},
     "output_type": "execute_result"
    }
   ],
   "source": [
    "# Each element of the array is a floating-point number\n",
    "t1_data.dtype"
   ]
  },
  {
   "cell_type": "code",
   "execution_count": 35,
   "metadata": {},
   "outputs": [
    {
     "name": "stdout",
     "output_type": "stream",
     "text": [
      "0.0\n",
      "1964.0\n"
     ]
    }
   ],
   "source": [
    "# Smaller the value - Darker the voxel\n",
    "# Larger the value - Brighter the voxel\n",
    "print(np.min(t1_data))\n",
    "print(np.max(t1_data))"
   ]
  },
  {
   "cell_type": "code",
   "execution_count": 37,
   "metadata": {},
   "outputs": [
    {
     "data": {
      "text/plain": [
       "8.0"
      ]
     },
     "execution_count": 37,
     "metadata": {},
     "output_type": "execute_result"
    }
   ],
   "source": [
    "# Value of the (20, 3) voxel of the 10th brain slice in the X-axis\n",
    "t1_data[9, 19, 2]"
   ]
  },
  {
   "cell_type": "code",
   "execution_count": 40,
   "metadata": {},
   "outputs": [],
   "source": [
    "x_slice = t1_data[9, :, :] # Pulled the 10th slice from X-axis\n",
    "y_slice = t1_data[:, 19, :] # Pulled the 20th slice from Y-axis\n",
    "z_slice = t1_data[:, :, 2] # Pulled the 3rd slice from Z-axis"
   ]
  },
  {
   "cell_type": "code",
   "execution_count": 42,
   "metadata": {},
   "outputs": [],
   "source": [
    "%matplotlib inline"
   ]
  },
  {
   "cell_type": "code",
   "execution_count": 43,
   "metadata": {},
   "outputs": [
    {
     "data": {
      "image/png": "[encoded data removed]",
      "text/plain": [
       "<Figure size 432x288 with 3 Axes>"
      ]
     },
     "metadata": {
      "needs_background": "light"
     },
     "output_type": "display_data"
    }
   ],
   "source": [
    "# Here we will visualize the slices we obtained mapped to gray and lower values indicates darker\n",
    "slices = [x_slice, y_slice, z_slice]\n",
    "\n",
    "fig, axes = plt.subplots(1, len(slices)) # equiv to par(mfrow = c(1, 3))\n",
    "for i, slice in enumerate(slices):\n",
    "    axes[i].imshow(slice.T, cmap = \"gray\", origin = \"lower\")"
   ]
  },
  {
   "cell_type": "code",
   "execution_count": 44,
   "metadata": {},
   "outputs": [
    {
     "data": {
      "text/plain": [
       "array([[ 8.99742126e-01,  1.05651410e-03,  2.05146018e-02,\n",
       "        -9.00501099e+01],\n",
       "       [-7.48920813e-03,  8.19935203e-01,  2.57255703e-01,\n",
       "        -1.43966370e+02],\n",
       "       [-2.01671515e-02, -2.57352889e-01,  8.19709778e-01,\n",
       "        -7.67913361e+01],\n",
       "       [ 0.00000000e+00,  0.00000000e+00,  0.00000000e+00,\n",
       "         1.00000000e+00]])"
      ]
     },
     "execution_count": 44,
     "metadata": {},
     "output_type": "execute_result"
    }
   ],
   "source": [
    "# Affine Matrix is the meta data associated with the 3D image\n",
    "# Even though we refered teh 1st, 2nd and 3rd dims of the image matrix as X, Y, Z\n",
    "# We don't know the actual dimensions(cm, etc.), left or right, up or down, back of front\n",
    "# The affine matrix allows to translate between voxel coordinates in (x, y, z) and world space coordinates(left/right, bottom/up, back/front).\n",
    "# Usually it depends on how we constructed the affine matrix, but in this case it always refers to (Right, Anterior, Superior). Remember \"RAS\"\n",
    "# Applying the affine matrix(t1_affine) is done through using a linear map(matrix multiplication) on voxel coordinates(defined in t1_data)\n",
    "# Increasing the coordinate value of the first dimension corresponds to moving to the right of the person being scanned\n",
    "t1_affine = t1_img.affine\n",
    "t1_affine"
   ]
  }
 ],
 "metadata": {
  "kernelspec": {
   "display_name": "Python 3",
   "language": "python",
   "name": "python3"
  },
  "language_info": {
   "codemirror_mode": {
    "name": "ipython",
    "version": 3
   },
   "file_extension": ".py",
   "mimetype": "text/x-python",
   "name": "python",
   "nbconvert_exporter": "python",
   "pygments_lexer": "ipython3",
   "version": "3.6.8"
  }
 },
 "nbformat": 4,
 "nbformat_minor": 4
}
